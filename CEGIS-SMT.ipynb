{
 "cells": [
  {
   "cell_type": "markdown",
   "metadata": {},
   "source": [
    "# Learning Bisimulation Quotients\n"
   ]
  },
  {
   "cell_type": "markdown",
   "metadata": {},
   "source": [
    "This notebook comprises the full implementation of the algorithms presented in the dissertation **Learning Bisimulation Quotients**. The dissertation submitted in Trinity Term 2023 at the University of Oxford, for the degree **Master of Science in Advanced Computer Science**. \n",
    "\n",
    "The notebook contains the implementation of our CEGIS approach for the synthesis of bisimulation quotients, the extraction of subquotients and the extraction of polytopic regions for which the obtained abstractions are exact.\n"
   ]
  },
  {
   "attachments": {},
   "cell_type": "markdown",
   "metadata": {},
   "source": [
    "### Imports"
   ]
  },
  {
   "cell_type": "code",
   "execution_count": null,
   "metadata": {},
   "outputs": [],
   "source": [
    "from z3 import *\n",
    "import numpy as np\n",
    "import networkx as nx\n",
    "from utils import decimal, extract_quotient\n",
    "\n",
    "import matplotlib.pyplot as plt\n",
    "from matplotlib.colors import ListedColormap \n",
    "\n",
    "import time"
   ]
  },
  {
   "attachments": {},
   "cell_type": "markdown",
   "metadata": {},
   "source": [
    "#### SMT Variables"
   ]
  },
  {
   "cell_type": "code",
   "execution_count": null,
   "metadata": {},
   "outputs": [],
   "source": [
    "x = Real(\"x\")\n",
    "y = Real(\"y\")\n",
    "\n",
    "x1 = Real(\"x1\")\n",
    "y1 = Real(\"y1\")\n",
    "\n",
    "x2 = Real(\"x2\")\n",
    "y2 = Real(\"y2\")\n",
    "\n",
    "p = Int(\"p\")\n",
    "q = Int(\"q\")"
   ]
  },
  {
   "attachments": {},
   "cell_type": "markdown",
   "metadata": {},
   "source": [
    "### Model Definitions"
   ]
  },
  {
   "cell_type": "code",
   "execution_count": null,
   "metadata": {},
   "outputs": [],
   "source": [
    "# # Dynamics Piece-Wise constant\n",
    "# def successor(x):\n",
    "#     x[0] = If(x[1] > 1, x[0] - 1., x[0])\n",
    "#     x[1] = If(x[1] <= 1, x[1] + 1., x[1])\n",
    "#     return x\n",
    "\n",
    "# Dynamics constant\n",
    "def successor(x): \n",
    "    x[0] = x[0] - 1.\n",
    "    return x\n",
    "\n",
    "# # Dynamics 4-state HA cycle\n",
    "# def successor(x):\n",
    "#     res = list(x)\n",
    "#     res[0] = If(And(x[0] >= 0, x[1] >= 0), x[0] - 1., If(And(x[0] < 0, x[1] < 0), x[0] + 1., x[0]))\n",
    "#     res[1] = If(And(x[0] < 0, x[1] >= 0), x[1] - 1., If(And(x[0] >= 0, x[1] < 0), x[1] + 1., x[1]))\n",
    "\n",
    "#     return res\n",
    "\n",
    "# # Dynamics 90 degree rotation\n",
    "# def successor(x): \n",
    "#     rot_mat = np.array([[0, -1],\n",
    "#                         [1, 0]])\n",
    "#     x = np.matmul(rot_mat, x)\n",
    "#     return x\n",
    "\n",
    "# # Dynamics 45 degree rotation\n",
    "# def simpl(a):\n",
    "#     dec = simplify(a).as_decimal(10)\n",
    "#     if dec[-1] == \"?\":\n",
    "#         return RealVal(float(dec[:-1]))\n",
    "#     else: \n",
    "#         return RealVal(float(dec))\n",
    "    \n",
    "# def successor(x): \n",
    "#     pi_4 = decimal(Sqrt(2) / 2)\n",
    "#     rot_mat = np.array([[pi_4, -pi_4],\n",
    "#                         [pi_4, pi_4]])\n",
    "#     x = np.matmul(rot_mat, x)\n",
    "#     return x\n",
    "\n",
    "# # Dynamics Piece-Wise constant\n",
    "# def successor(x):\n",
    "#     x[0] = If(x[1] <= 0, x[0] + 1., x[0] - 1.)\n",
    "#     return x\n",
    "\n",
    "# # Discrete Timed Automaton, without reset and \n",
    "# def successor(x):\n",
    "#     x[0] = x[0] + 1\n",
    "#     x[1] = x[1] + 1\n",
    "#     return x\n",
    "\n",
    "\n",
    "num_params = 5 # Decision boundary parameters (right side of poly-hedral constraint)\n",
    "num_coefficients = 6 # Polyhedral Coefficients\n",
    "\n",
    "# Model\n",
    "partitions = [IntVal(i) for i in range(num_params)]\n",
    "\n",
    "# Domain (State Space)\n",
    "lower_x = 0\n",
    "upper_x = 3\n",
    "lower_y = 0\n",
    "upper_y = 3\n",
    "def domain(x):\n",
    "    return And(x[0] <= upper_x, x[0] >= lower_x, x[1] >= lower_y, x[1] <= upper_y)\n"
   ]
  },
  {
   "attachments": {},
   "cell_type": "markdown",
   "metadata": {},
   "source": [
    "## Learner"
   ]
  },
  {
   "attachments": {},
   "cell_type": "markdown",
   "metadata": {},
   "source": [
    "#### Binary Decision Trees"
   ]
  },
  {
   "cell_type": "code",
   "execution_count": null,
   "metadata": {},
   "outputs": [],
   "source": [
    "class BDTLeave:\n",
    "    def __init__(self, outcome):\n",
    "        self.outcome = outcome\n",
    "\n",
    "    def formula(self):\n",
    "        return self.outcome\n",
    "\n",
    "    def robust_formula(self):\n",
    "        return self.outcome\n",
    "    \n",
    "    def pred(self, x, robust=False):\n",
    "        return self.outcome.as_long()\n",
    "    \n",
    "class BDTNode:\n",
    "    def __init__(self, condition, param, res_l, res_r, eps):\n",
    "        self.condition = condition\n",
    "        self.param = param\n",
    "        self.res_l = res_l\n",
    "        self.res_r = res_r\n",
    "        self.eps = eps\n",
    "    \n",
    "    def formula(self):\n",
    "        return If(self.condition <= self.param, self.res_l.formula(), self.res_r.formula())\n",
    "    \n",
    "    def robust_formula(self):\n",
    "        return If(self.condition <= self.param - self.eps, self.res_l.robust_formula(), \n",
    "                  If(self.condition >= self.param + self.eps, self.res_r.robust_formula(), IntVal(-1)))\n",
    "\n",
    "class BDTNodePoly:\n",
    "    def __init__(self, coefficients: list, variables: list, param, res_l, res_r, eps):\n",
    "        self.coeffs = coefficients\n",
    "        self.vars = variables\n",
    "        self.param = param\n",
    "        self.res_l = res_l\n",
    "        self.res_r = res_r\n",
    "\n",
    "        self.condition = np.dot(coefficients, variables)\n",
    "\n",
    "        norm = simplify(Sqrt(np.sum(np.square(self.coeffs))))\n",
    "        norm = norm.approx() if type(norm) == AlgebraicNumRef else norm\n",
    "\n",
    "        self.eps = eps * norm\n",
    "\n",
    "    def formula(self):\n",
    "        return If(self.condition <= self.param, self.res_l.formula(), self.res_r.formula())\n",
    "    \n",
    "    def robust_formula(self):\n",
    "        return If(self.condition <= self.param - self.eps, self.res_l.robust_formula(), \n",
    "                  If(self.condition >= self.param + self.eps, self.res_r.robust_formula(), IntVal(-1)))\n",
    "    \n",
    "    def pred(self, x, robust = False):\n",
    "        if not robust:\n",
    "            if decimal(np.dot(self.coeffs, x)) <= decimal(self.param):\n",
    "                return self.res_l.pred(x)\n",
    "            else:\n",
    "                return self.res_r.pred(x)\n",
    "        else:\n",
    "            if decimal(np.dot(self.coeffs, x)) <= decimal(self.param) - decimal(self.eps):\n",
    "                return self.res_l.pred(x, robust)\n",
    "            elif decimal(np.dot(self.coeffs, x)) >= decimal(self.param) + decimal(self.eps):\n",
    "                return self.res_r.pred(x, robust)\n",
    "            else:\n",
    "                return -1\n",
    "            \n",
    "class BDTNodePolyEq:\n",
    "    def __init__(self, coefficients: list, variables: list, param, res_l, res_r, eps):\n",
    "        self.coeffs = coefficients\n",
    "        self.vars = variables\n",
    "        self.param = param\n",
    "        self.res_l = res_l\n",
    "        self.res_r = res_r\n",
    "\n",
    "        self.condition = np.dot(coefficients, variables)\n",
    "\n",
    "        norm = simplify(Sqrt(np.sum(np.square(self.coeffs))))\n",
    "        norm = norm.approx() if type(norm) == AlgebraicNumRef else norm\n",
    "\n",
    "        self.eps = eps * norm\n",
    "\n",
    "    def formula(self):\n",
    "        return If(And(self.vars[0] == RealVal(0), self.vars[1] == RealVal(0)) , self.res_l.formula(), self.res_r.formula())\n",
    "    \n",
    "    def robust_formula(self):\n",
    "        return If(self.condition <= self.param - self.eps, self.res_l.robust_formula(), \n",
    "                  If(self.condition >= self.param + self.eps, self.res_r.robust_formula(), IntVal(-1)))\n",
    "    \n",
    "    def pred(self, x, robust = False):\n",
    "        if not robust:\n",
    "            if decimal(x[0]) == 0. and decimal(x[1]) == 0.:\n",
    "                return self.res_l.pred(x)\n",
    "            else:\n",
    "                return self.res_r.pred(x)\n",
    "        else:\n",
    "            if decimal(np.dot(self.coeffs, x)) <= decimal(self.param) - decimal(self.eps):\n",
    "                return self.res_l.pred(x, robust)\n",
    "            elif decimal(np.dot(self.coeffs, x)) >= decimal(self.param) + decimal(self.eps):\n",
    "                return self.res_r.pred(x, robust)\n",
    "            else:\n",
    "                return -1"
   ]
  },
  {
   "attachments": {},
   "cell_type": "markdown",
   "metadata": {},
   "source": [
    "#### Learner Parameters"
   ]
  },
  {
   "cell_type": "code",
   "execution_count": null,
   "metadata": {},
   "outputs": [],
   "source": [
    "adjacency_params = [[Bool(\"a_%s_%s\" % (i, j)) for j in range(len(partitions))] for i in range(len(partitions))]\n",
    "\n",
    "model_params = [Real(\"p_%s\" % i) for i in range(num_params)] + [Real(\"a_%s\" % i) for i in range(num_coefficients)]\n",
    "\n",
    "robustness_vector = [Real(\"eps_%i\" % i) for i in range(num_params + 4)] # + 4 for the 4 domain bounds"
   ]
  },
  {
   "attachments": {},
   "cell_type": "markdown",
   "metadata": {},
   "source": [
    "#### Learner Models (**BDT Templates**)"
   ]
  },
  {
   "cell_type": "code",
   "execution_count": null,
   "metadata": {},
   "outputs": [],
   "source": [
    "###\n",
    "# Left-Right Systems\n",
    "###\n",
    "\n",
    "###\n",
    "# Single Class observation left, 8 Classes for right side\n",
    "###\n",
    "def build_b3(params, x, robustness_vector, robust = False):\n",
    "        b = BDTNodePoly([RealVal(1),RealVal(0)],x, RealVal(0), \n",
    "                        BDTLeave(partitions[0]), \n",
    "                        BDTNodePoly([params[num_params],params[num_params+1]],x ,params[0], \n",
    "                                BDTNodePoly([params[num_params + 2], params[num_params + 3]],x , params[1], \n",
    "                                        BDTNodePoly([params[num_params + 6], params[num_params + 7]],x, params[3],\n",
    "                                                BDTLeave(partitions[8]), BDTLeave(partitions[1]), robustness_vector[3]),\n",
    "                                        BDTNodePoly([params[num_params + 8], params[num_params + 9]],x, params[4],\n",
    "                                                BDTLeave(partitions[2]), BDTLeave(partitions[3]), robustness_vector[4]),\n",
    "                                        robustness_vector[1]), \n",
    "                                BDTNodePoly([params[num_params + 4], params[num_params + 5]],x, params[2],\n",
    "                                        BDTNodePoly([params[num_params + 10], params[num_params + 11]],x, params[5],\n",
    "                                                BDTLeave(partitions[4]), BDTLeave(partitions[5]), robustness_vector[5]),\n",
    "                                        BDTNodePoly([params[num_params + 12], params[num_params + 13]],x, params[6],\n",
    "                                                BDTLeave(partitions[6]), BDTLeave(partitions[7]), robustness_vector[6]),\n",
    "                                        robustness_vector[2]),\n",
    "                                robustness_vector[7]),\n",
    "                robustness_vector[0])\n",
    "        if not robust:\n",
    "               return b.formula(), b\n",
    "        else:\n",
    "                return b.robust_formula(), b\n",
    "        \n",
    "###\n",
    "# 2 Classes both sides\n",
    "###\n",
    "def build_b4(params, x, robustness_vector, robust = False):\n",
    "        b = BDTNodePoly([RealVal(1),RealVal(0)],x, RealVal(0), \n",
    "                BDTNodePoly([params[num_params+1], params[num_params+2]], x, params[0],\n",
    "                                BDTLeave(partitions[1]), BDTLeave(partitions[2]), robustness_vector[1]),\n",
    "                BDTNodePoly([params[num_params+3], params[num_params+4]], x, params[1],\n",
    "                                BDTLeave(partitions[3]), BDTLeave(partitions[4]), robustness_vector[2]),\n",
    "                robustness_vector[0])\n",
    "        if not robust:\n",
    "               return b.formula(), b\n",
    "        else:\n",
    "                return b.robust_formula(), b\n",
    "\n",
    "###\n",
    "# 6 Classes on both sides\n",
    "###\n",
    "def build_b5(params, x, robustness_vector, robust = False):\n",
    "        b = BDTNodePoly([RealVal(1),RealVal(0)],x, RealVal(0),  \n",
    "                        BDTNodePoly([params[num_params + 2], params[num_params + 3]],x , params[1], \n",
    "                                BDTNodePoly([params[num_params + 6], params[num_params + 7]],x, params[3],\n",
    "                                        BDTLeave(partitions[0]), BDTLeave(partitions[1]), robustness_vector[3]),\n",
    "                                BDTNodePoly([params[num_params + 8], params[num_params + 9]],x, params[4],\n",
    "                                        BDTNodePoly([params[num_params + 14], params[num_params + 15]],x, params[7],\n",
    "                                                BDTLeave(partitions[2]), BDTLeave(partitions[3]), robustness_vector[7]),\n",
    "                                        BDTNodePoly([params[num_params + 16], params[num_params + 17]],x, params[8],\n",
    "                                                BDTLeave(partitions[8]), BDTLeave(partitions[9]), robustness_vector[8])\n",
    "                                        ,robustness_vector[4]),\n",
    "                                robustness_vector[1]), \n",
    "                        BDTNodePoly([params[num_params + 4], params[num_params + 5]],x, params[2],\n",
    "                                BDTNodePoly([params[num_params + 10], params[num_params + 11]],x, params[5],\n",
    "                                        BDTLeave(partitions[4]), BDTLeave(partitions[5]), robustness_vector[5]),\n",
    "                                BDTNodePoly([params[num_params + 12], params[num_params + 13]],x, params[6],\n",
    "                                        BDTNodePoly([params[num_params + 18], params[num_params + 19]],x, params[9],\n",
    "                                                BDTLeave(partitions[6]), BDTLeave(partitions[7]), robustness_vector[9]),\n",
    "                                        BDTNodePoly([params[num_params + 20], params[num_params + 21]],x, params[10],\n",
    "                                                BDTLeave(partitions[10]), BDTLeave(partitions[11]), robustness_vector[10])\n",
    "                                        , robustness_vector[6]),\n",
    "                                robustness_vector[2]),\n",
    "                        robustness_vector[7])\n",
    "        if not robust:\n",
    "               return b.formula(), b\n",
    "        else:\n",
    "                return b.robust_formula(), b\n",
    "\n",
    "        \n",
    "###\n",
    "# Single Class observation left, 4 Classes for right side\n",
    "###\n",
    "def build_b7(params, x, robustness_vector, robust = False):\n",
    "        b = BDTNodePoly([RealVal(1),RealVal(0)],x, RealVal(0), \n",
    "                        BDTLeave(partitions[0]), \n",
    "                        BDTNodePoly([params[num_params],params[num_params+1]],x ,params[0], \n",
    "                                BDTNodePoly([params[num_params + 2], params[num_params + 3]],x , params[1], \n",
    "                                        BDTLeave(partitions[1]), BDTLeave(partitions[2]),    \n",
    "                                        robustness_vector[1]), \n",
    "                                BDTNodePoly([params[num_params + 4], params[num_params + 5]],x, params[2],\n",
    "                                        BDTLeave(partitions[3]), BDTLeave(partitions[4]),\n",
    "                                        robustness_vector[2]),\n",
    "                                robustness_vector[3]),\n",
    "                robustness_vector[0])\n",
    "        if not robust:\n",
    "               return b.formula(), b\n",
    "        else:\n",
    "                return b.robust_formula(), b\n",
    "        \n",
    "###\n",
    "# 4 Classes on both sides \n",
    "###\n",
    "def build_b8(params, x, robustness_vector, robust = False):\n",
    "        b = BDTNodePoly([RealVal(1),RealVal(0)],x, RealVal(0), \n",
    "                        BDTNodePoly([params[num_params + 2], params[num_params + 3]],x , params[0], \n",
    "                                        BDTNodePoly([params[num_params + 6], params[num_params + 7]],x, params[2],\n",
    "                                                BDTLeave(partitions[0]), BDTLeave(partitions[1]), robustness_vector[3]),\n",
    "                                        BDTNodePoly([params[num_params + 8], params[num_params + 9]],x, params[3],\n",
    "                                                BDTLeave(partitions[2]), BDTLeave(partitions[3]), robustness_vector[4]),\n",
    "                                        robustness_vector[1]),\n",
    "                        BDTNodePoly([params[num_params + 4], params[num_params + 5]],x, params[1],\n",
    "                                BDTNodePoly([params[num_params + 10], params[num_params + 11]],x, params[4],\n",
    "                                        BDTLeave(partitions[4]), BDTLeave(partitions[5]), robustness_vector[5]),\n",
    "                                BDTNodePoly([params[num_params + 12], params[num_params + 13]],x, params[5],\n",
    "                                        BDTLeave(partitions[6]), BDTLeave(partitions[7]), robustness_vector[6]),\n",
    "                                robustness_vector[2]),\n",
    "                robustness_vector[0])\n",
    "        if not robust:\n",
    "               return b.formula(), b\n",
    "        else:\n",
    "                return b.robust_formula(), b\n",
    "        \n",
    "\n",
    "###\n",
    "#  Radial Systems   \n",
    "###\n",
    "\n",
    "###\n",
    "# 4 Classes on both sides and (0,0) as fixed class\n",
    "###\n",
    "def build_b6(params, x, robustness_vector, robust = False):\n",
    "        b = BDTNodePoly([RealVal(1),RealVal(0)],x, RealVal(0), \n",
    "                        BDTNodePolyEq([RealVal(1),RealVal(1)],x, RealVal(0), \n",
    "                                BDTLeave(partitions[0]), \n",
    "                                BDTNodePoly([params[num_params + 2], params[num_params + 3]],x , params[1], \n",
    "                                        BDTNodePoly([params[num_params + 6], params[num_params + 7]],x, params[3],\n",
    "                                                BDTLeave(partitions[8]), BDTLeave(partitions[1]), robustness_vector[3]),\n",
    "                                        BDTNodePoly([params[num_params + 8], params[num_params + 9]],x, params[4],\n",
    "                                                BDTLeave(partitions[2]), BDTLeave(partitions[3]), robustness_vector[4]),\n",
    "                                        robustness_vector[1]),\n",
    "                                robustness_vector[7]),\n",
    "                        BDTNodePoly([params[num_params + 4], params[num_params + 5]],x, params[2],\n",
    "                                BDTNodePoly([params[num_params + 10], params[num_params + 11]],x, params[5],\n",
    "                                        BDTLeave(partitions[4]), BDTLeave(partitions[5]), robustness_vector[5]),\n",
    "                                BDTNodePoly([params[num_params + 12], params[num_params + 13]],x, params[6],\n",
    "                                        BDTLeave(partitions[6]), BDTLeave(partitions[7]), robustness_vector[6]),\n",
    "                                robustness_vector[2]),\n",
    "                robustness_vector[0])\n",
    "        if not robust:\n",
    "               return b.formula(), b\n",
    "        else:\n",
    "                return b.robust_formula(), b\n",
    "        \n",
    "\n",
    "\n",
    "###\n",
    "# Timed Automata-like systems\n",
    "###\n",
    "\n",
    "def build_b_ta(params, x, robustness_vector, robust = False):\n",
    "        b = BDTNodePoly([RealVal(-1),RealVal(0)],x, RealVal(-3), \n",
    "                        BDTLeave(partitions[0]), \n",
    "                        BDTNodePoly([RealVal(0),RealVal(-1)],x, RealVal(-3), \n",
    "                                BDTLeave(partitions[0]), \n",
    "                                BDTNodePoly([params[num_params],params[num_params+1]],x ,params[0], \n",
    "                                        BDTNodePoly([params[num_params + 2], params[num_params + 3]],x , params[1], \n",
    "                                                BDTLeave(partitions[1]), BDTLeave(partitions[2]),    \n",
    "                                                robustness_vector[1]), \n",
    "                                        BDTNodePoly([params[num_params + 4], params[num_params + 5]],x, params[2],\n",
    "                                                BDTLeave(partitions[3]), BDTLeave(partitions[4]),\n",
    "                                                robustness_vector[2]),\n",
    "                                        robustness_vector[3]),\n",
    "                                robustness_vector[4]),\n",
    "                robustness_vector[0])\n",
    "        if not robust:\n",
    "               return b.formula(), b\n",
    "        else:\n",
    "                return b.robust_formula(), b\n",
    "        \n",
    "def build_b_ta2(params, x, robustness_vector, robust = False):\n",
    "        b = BDTNodePoly([RealVal(-1),RealVal(0)],x, RealVal(-3), \n",
    "                        BDTLeave(partitions[0]), \n",
    "                        BDTNodePoly([RealVal(0),RealVal(-1)],x, RealVal(-3), \n",
    "                                BDTLeave(partitions[0]), \n",
    "                                BDTNodePoly([params[num_params],params[num_params+1]],x ,params[0], \n",
    "                                        BDTNodePoly([params[num_params + 2], params[num_params + 3]],x , params[1], \n",
    "                                                BDTNodePoly([params[num_params + 6], params[num_params + 7]],x, params[3],\n",
    "                                                        BDTLeave(partitions[1]), BDTLeave(partitions[2]), robustness_vector[4]),\n",
    "                                                BDTNodePoly([params[num_params + 8], params[num_params + 9]],x, params[4],\n",
    "                                                        BDTLeave(partitions[3]), BDTLeave(partitions[4]), robustness_vector[5]),\n",
    "                                        robustness_vector[2]), \n",
    "                                        BDTNodePoly([params[num_params + 4], params[num_params + 5]],x, params[2],\n",
    "                                                BDTNodePoly([params[num_params + 10], params[num_params + 11]],x, params[5],\n",
    "                                                        BDTLeave(partitions[5]), BDTLeave(partitions[6]), robustness_vector[6]),\n",
    "                                                BDTNodePoly([params[num_params + 12], params[num_params + 13]],x, params[6],\n",
    "                                                        BDTLeave(partitions[7]), BDTLeave(partitions[8]), robustness_vector[7]),\n",
    "                                        robustness_vector[3]),\n",
    "                                robustness_vector[7]),\n",
    "                        robustness_vector[1]),\n",
    "                robustness_vector[0])\n",
    "        if not robust:\n",
    "               return b.formula(), b\n",
    "        else:\n",
    "                return b.robust_formula(), b\n",
    "        \n",
    "def build_b_ta3(params, x, robustness_vector, robust = False):\n",
    "        b = BDTNodePoly([RealVal(-1),RealVal(0)],x, RealVal(-1), \n",
    "                        BDTLeave(partitions[0]), \n",
    "                        BDTNodePoly([RealVal(1),RealVal(-1)],x, RealVal(0), \n",
    "                                BDTLeave(partitions[1]), \n",
    "                                BDTNodePoly([params[num_params],params[num_params+1]],x ,params[0], \n",
    "                                        BDTNodePoly([params[num_params+2],params[num_params+3]],x ,params[1], \n",
    "                                                BDTNodePoly([params[num_params + 3], params[num_params + 4]],x , params[3], \n",
    "                                                        BDTNodePoly([params[num_params + 5], params[num_params + 6]],x, params[4],\n",
    "                                                                BDTLeave(partitions[2]), BDTLeave(partitions[3]), robustness_vector[2]),\n",
    "                                                        BDTNodePoly([params[num_params + 7], params[num_params + 8]],x, params[5],\n",
    "                                                                BDTLeave(partitions[4]), BDTLeave(partitions[5]), robustness_vector[3]),\n",
    "                                                robustness_vector[4]), \n",
    "                                                BDTNodePoly([params[num_params + 9], params[num_params + 10]],x, params[6],\n",
    "                                                        BDTNodePoly([params[num_params + 11], params[num_params + 12]],x, params[7],\n",
    "                                                                BDTLeave(partitions[6]), BDTLeave(partitions[7]), robustness_vector[5]),\n",
    "                                                        BDTNodePoly([params[num_params + 13], params[num_params + 14]],x, params[8],\n",
    "                                                                BDTLeave(partitions[8]), BDTLeave(partitions[9]), robustness_vector[6]),\n",
    "                                                robustness_vector[7]),\n",
    "                                        robustness_vector[8]), \n",
    "                                        BDTNodePoly([params[num_params + 15],params[num_params + 16]],x ,params[9], \n",
    "                                                BDTNodePoly([params[num_params + 18], params[num_params + 19]],x , params[10], \n",
    "                                                        BDTNodePoly([params[num_params + 20], params[num_params + 21]],x, params[11],\n",
    "                                                                BDTLeave(partitions[10]), BDTLeave(partitions[11]), robustness_vector[9]),\n",
    "                                                        BDTNodePoly([params[num_params + 22], params[num_params + 23]],x, params[12],\n",
    "                                                                BDTLeave(partitions[12]), BDTLeave(partitions[13]), robustness_vector[10]),\n",
    "                                                robustness_vector[11]), \n",
    "                                                BDTNodePoly([params[num_params + 24], params[num_params + 25]],x, params[13],\n",
    "                                                        BDTNodePoly([params[num_params + 26], params[num_params + 27]],x, params[14],\n",
    "                                                                BDTLeave(partitions[14]), BDTLeave(partitions[15]), robustness_vector[12]),\n",
    "                                                        BDTNodePoly([params[num_params + 28], params[num_params + 29]],x, params[15],\n",
    "                                                                BDTLeave(partitions[16]), BDTLeave(partitions[17]), robustness_vector[13]),\n",
    "                                                robustness_vector[14]),\n",
    "                                        robustness_vector[15]),\n",
    "                                robustness_vector[16]),\n",
    "                        robustness_vector[1]),\n",
    "                robustness_vector[0])\n",
    "        if not robust:\n",
    "               return b.formula(), b\n",
    "        else:\n",
    "                return b.robust_formula(), b\n",
    "\n"
   ]
  },
  {
   "attachments": {},
   "cell_type": "markdown",
   "metadata": {},
   "source": [
    "#### Classification (**Partitions**)"
   ]
  },
  {
   "cell_type": "code",
   "execution_count": null,
   "metadata": {},
   "outputs": [],
   "source": [
    "def classify(params, x, robustness_vector):\n",
    "    f, _ = build_b7(params, x, robustness_vector)\n",
    "    return f\n",
    "\n",
    "def classify_robust(params, x, robustness_vector):\n",
    "    f, _ = build_b7(params, x, robustness_vector, robust = True)\n",
    "    return f\n",
    "\n",
    "classify(model_params, [x,y], robustness_vector)\n",
    "print(classify(model_params, [x,y], robustness_vector))"
   ]
  },
  {
   "attachments": {},
   "cell_type": "markdown",
   "metadata": {},
   "source": [
    "#### Classification (**Adjacency**)"
   ]
  },
  {
   "cell_type": "code",
   "execution_count": null,
   "metadata": {},
   "outputs": [],
   "source": [
    "def generate_adjacency(p,q, i , j, params, mx):\n",
    "    if i == mx and j == mx:\n",
    "        return If(And(p == i, q == j),If(params[i][j],1,0),0)\n",
    "    elif i <= mx and j < mx:\n",
    "        return If(And(p == i, q == j), If(params[i][j],1,0), generate_adjacency(p,q,i,j+1,params,mx))\n",
    "    elif i < mx and j == mx:\n",
    "        return If(And(p == i, q == j), If(params[i][j],1,0), generate_adjacency(p,q,i+1,0,params,mx))\n",
    "\n",
    "\n",
    "def adjacency(params, p, q): \n",
    "    return generate_adjacency(p,q,0,0,params,len(partitions) - 1)\n"
   ]
  },
  {
   "attachments": {},
   "cell_type": "markdown",
   "metadata": {},
   "source": [
    "#### Extract Learner from SMT"
   ]
  },
  {
   "cell_type": "code",
   "execution_count": null,
   "metadata": {},
   "outputs": [],
   "source": [
    "def extract_learner(s : Solver):\n",
    "    print(\"Checking Constraints\")\n",
    "    print(\"Num Constraints:\", len(s.assertions()))\n",
    "    print(s.check())\n",
    "    print(\"Checked Constraints\")\n",
    "\n",
    "    if s.check() == sat:\n",
    "        m = s.model()\n",
    "        adj = [ [ m.evaluate(adjacency_params[i][j]) for j in range(len(partitions)) ] for i in range(len(partitions)) ]\n",
    "        eps = [m.evaluate(robustness_vector[i]) for i in range(num_params + 4)]\n",
    "        params = [m.evaluate(param) for param in model_params]\n",
    "\n",
    "        for i in range(len(params)):\n",
    "            if not(type(params[i]) == ArithRef):\n",
    "                print(model_params[i], decimal(params[i]))\n",
    "            else:\n",
    "                print(model_params[i], params[i])\n",
    "\n",
    "        for i in range(len(robustness_vector)):\n",
    "            if not(type(eps[i]) == ArithRef):\n",
    "                print(robustness_vector[i], decimal(eps[i]))\n",
    "            else:\n",
    "                print(robustness_vector[i], robustness_vector[i])\n",
    "      \n",
    "        return params, adj, eps\n",
    "    else:\n",
    "        print(\"failed to solve\")\n",
    "        return None, None, None"
   ]
  },
  {
   "attachments": {},
   "cell_type": "markdown",
   "metadata": {},
   "source": [
    "#### Generate Initial Samples"
   ]
  },
  {
   "cell_type": "code",
   "execution_count": null,
   "metadata": {},
   "outputs": [],
   "source": [
    "def generate_samples(num: int):\n",
    "    samples = (np.random.uniform([lower_x,lower_y], [upper_x,upper_y], (num, 2)))\n",
    "    samples = np.array([[RealVal(i) for i in x] for x in samples])\n",
    "    return samples"
   ]
  },
  {
   "attachments": {},
   "cell_type": "markdown",
   "metadata": {},
   "source": [
    "#### Conditions on Counterexamples"
   ]
  },
  {
   "attachments": {},
   "cell_type": "markdown",
   "metadata": {},
   "source": [
    "Add bisimulation conditions on counterexamples to solver"
   ]
  },
  {
   "cell_type": "code",
   "execution_count": null,
   "metadata": {},
   "outputs": [],
   "source": [
    "def cond_1_ctxs(solver, model_params, adj_params, eps, ctxs):\n",
    "    for [x,y] in ctxs:\n",
    "        solver.add(\n",
    "            ForAll([p,q], Implies(And(classify(model_params, [x,y], eps) == p, \n",
    "                                            classify(model_params, successor([x,y]), eps) == q, domain([x,y])), \n",
    "                                adjacency(adj_params, p, q) == 1))\n",
    "        )\n",
    "            \n",
    "def cond_2_ctxs(solver, model_params, adj_params, eps, ctxs):\n",
    "    for [x,y] in ctxs:\n",
    "        solver.add(\n",
    "            ForAll([p,q], Implies(adjacency(adj_params, p ,q) == 1, \n",
    "                            Implies(And(classify(model_params,[x,y], eps) == p, domain([x,y])), classify(model_params,successor([x,y]),eps) == q)))\n",
    "        )"
   ]
  },
  {
   "cell_type": "code",
   "execution_count": null,
   "metadata": {},
   "outputs": [],
   "source": [
    "def learn_ctxs(s, ctxs, new_ctxs):\n",
    "    if new_ctxs == None: return ctxs\n",
    "    ctxs = np.concatenate((ctxs, new_ctxs), axis = 0)\n",
    "    cond_1_ctxs(s, model_params, adjacency_params,robustness_vector, new_ctxs)\n",
    "    cond_2_ctxs(s, model_params, adjacency_params,robustness_vector, new_ctxs)\n",
    "    return ctxs"
   ]
  },
  {
   "cell_type": "markdown",
   "metadata": {},
   "source": [
    "Generate Solver and initialize with conditions on initial samples"
   ]
  },
  {
   "cell_type": "code",
   "execution_count": null,
   "metadata": {},
   "outputs": [],
   "source": [
    "s = Solver()\n",
    "ctxs = generate_samples(20)\n",
    "\n",
    "cond_1_ctxs(s, model_params, adjacency_params,robustness_vector ,ctxs)\n",
    "cond_2_ctxs(s, model_params, adjacency_params,robustness_vector ,ctxs)\n",
    "    \n",
    "#mp, ap, eps = extract_learner(s) # First iteration is done in the CEGIS loop or here"
   ]
  },
  {
   "attachments": {},
   "cell_type": "markdown",
   "metadata": {},
   "source": [
    "## Verifier"
   ]
  },
  {
   "attachments": {},
   "cell_type": "markdown",
   "metadata": {},
   "source": [
    "Verify bisimulation conditions on learned partition and transition relation"
   ]
  },
  {
   "cell_type": "code",
   "execution_count": null,
   "metadata": {},
   "outputs": [],
   "source": [
    "def eval(m, x):\n",
    "    return m.evaluate(x) if not (m.evaluate(x) == x) else 0\n",
    "\n",
    "def ver_cond_1(model_params, adjacency_params, eps):\n",
    "    s = Solver()\n",
    "    s.add(Exists([p,q],(And(And(classify(model_params, [x,y], eps) == p, \n",
    "                        classify(model_params, successor([x,y]), eps) == q, domain([x,y])),\n",
    "                    Not(adjacency(adjacency_params, p, q) == 1)))))\n",
    "    if s.check() == sat:\n",
    "        m = s.model()\n",
    "        ctx = [[eval(m,x), eval(m,y)]]\n",
    "        return ctx\n",
    "    else:\n",
    "        return None\n",
    "\n",
    "\n",
    "def ver_cond_2(model_params, adjacency_params, eps):\n",
    "    s = Solver()\n",
    "    s.add(Exists([p,q],(And(adjacency(adjacency_params, p ,q) == 1, \n",
    "                        classify(model_params,[x,y], eps) == p, \n",
    "                        Not(classify(model_params,successor([x,y]), eps) == q),\n",
    "                        domain([x,y])))))\n",
    "    if s.check() == sat:\n",
    "        m = s.model()\n",
    "        ctx = [[eval(m,x), eval(m,y)]]\n",
    "        return ctx\n",
    "    else:\n",
    "        return None"
   ]
  },
  {
   "attachments": {},
   "cell_type": "markdown",
   "metadata": {},
   "source": [
    "#### Augment Counterexamples"
   ]
  },
  {
   "cell_type": "code",
   "execution_count": null,
   "metadata": {},
   "outputs": [],
   "source": [
    "# Sample n-samples uniformly in a given region around a found counter example\n",
    "def augment_ctxs(ctxs, num = 2, eps = 0.1):\n",
    "    if ctxs == None: return None\n",
    "    samples = []\n",
    "    for ctx in ctxs:\n",
    "        low0 = max(lower_x, decimal(ctx[0]) - eps)\n",
    "        up0 = min(upper_x, decimal(ctx[0]) + eps)\n",
    "        low1 = max(lower_x, decimal(ctx[1]) - eps)\n",
    "        up1 = min(upper_x, decimal(ctx[1]) + eps)\n",
    "        diff_samples = np.random.uniform([low0, low1],[up0, up1], (num, 2))\n",
    "        samples += [ctx] + [[RealVal(x) for x in sample] for sample in diff_samples]\n",
    "    return samples"
   ]
  },
  {
   "attachments": {},
   "cell_type": "markdown",
   "metadata": {},
   "source": [
    "## CEGIS"
   ]
  },
  {
   "attachments": {},
   "cell_type": "markdown",
   "metadata": {},
   "source": [
    "Run Learner and Verifier in a CEGIS loop. Verifier feeds Learner with counterexamples and Learner adjusts its parameters to adapt to the new data."
   ]
  },
  {
   "cell_type": "code",
   "execution_count": null,
   "metadata": {},
   "outputs": [],
   "source": [
    "def cegis(s : Solver, num_it, ctxs):\n",
    "    mp, ap, eps = extract_learner(s)\n",
    "    verified = True\n",
    "    for _ in range(num_it):\n",
    "        s.push()\n",
    "        ctxs_cond_1 = augment_ctxs(ver_cond_1(mp, ap, eps))\n",
    "\n",
    "        if ctxs_cond_1 != None: \n",
    "            ctxs = learn_ctxs(s, ctxs, ctxs_cond_1)\n",
    "            verified = False\n",
    "\n",
    "        ctxs_cond_2 = augment_ctxs(ver_cond_2(mp, ap, eps))\n",
    "\n",
    "        if ctxs_cond_2 != None: \n",
    "            ctxs = learn_ctxs(s, ctxs, ctxs_cond_2)\n",
    "            verified = False\n",
    "\n",
    "        if verified: break\n",
    "        verified = True\n",
    "        print(\"Extracting Learner Parameters\")\n",
    "        mp, ap, eps = extract_learner(s)\n",
    "    return mp, ap, eps, ctxs"
   ]
  },
  {
   "attachments": {},
   "cell_type": "markdown",
   "metadata": {},
   "source": [
    "#### Run CEGIS"
   ]
  },
  {
   "cell_type": "code",
   "execution_count": null,
   "metadata": {},
   "outputs": [],
   "source": [
    "mp, ap, eps, ctxs = cegis(s,8, ctxs)"
   ]
  },
  {
   "attachments": {},
   "cell_type": "markdown",
   "metadata": {},
   "source": [
    "## Approximation Quantification"
   ]
  },
  {
   "attachments": {},
   "cell_type": "markdown",
   "metadata": {},
   "source": [
    "Extract decision boundary epsilons from Learner"
   ]
  },
  {
   "cell_type": "code",
   "execution_count": null,
   "metadata": {},
   "outputs": [],
   "source": [
    "# Condition 1 - Concrete transitions imply abstract transitions\n",
    "def eps_cond_1(solver, model_params, adj_params, eps):\n",
    "    solver.add(\n",
    "        ForAll([p,q], Implies(Exists([x,y], And(classify_robust(model_params, [x,y], eps) == p, \n",
    "                                            classify_robust(model_params, successor([x,y]), eps) == q, \n",
    "                                            x >= 0 + eps[-1], x <= 4 - eps[-2], y <= 4 - eps[-3], y >= 0 + eps[-4], Not(p == -1), Not(q == -1))), \n",
    "                        adjacency(adj_params, p, q) == 1)\n",
    "        )\n",
    "    )\n",
    "\n",
    "# Condition 2 - Abstract transitions imply concrete transitions\n",
    "def eps_cond_2(solver, model_params, adj_params, eps):\n",
    "    solver.add(\n",
    "        ForAll([p,q], Implies(adjacency(adj_params, p ,q) == 1, \n",
    "                ForAll([x,y], Or(Implies(classify_robust(model_params,[x,y], eps) == p, classify_robust(model_params,successor([x,y]), eps) == q), \n",
    "                                 x < 0 + eps[-1], x > 4 - eps[-2], y < 0 + eps[-3], y > 4 - eps[-4])))\n",
    "        )\n",
    "    )"
   ]
  },
  {
   "attachments": {},
   "cell_type": "markdown",
   "metadata": {},
   "source": [
    "### Check Epsilon"
   ]
  },
  {
   "cell_type": "code",
   "execution_count": null,
   "metadata": {},
   "outputs": [],
   "source": [
    "def verify_eps(mp, ap, upper_bound):\n",
    "    e = Solver()\n",
    "    eps_cond_1(e, mp, ap, robustness_vector)\n",
    "    eps_cond_2(e, mp, ap, robustness_vector)\n",
    "\n",
    "    for eps in robustness_vector:\n",
    "        e.add(eps >= 0.0)\n",
    "        e.add(eps <= upper_bound)\n",
    "    \n",
    "    _, _, eps = extract_learner(e)\n",
    "\n",
    "    return eps\n"
   ]
  },
  {
   "cell_type": "code",
   "execution_count": null,
   "metadata": {},
   "outputs": [],
   "source": [
    "ver_eps = verify_eps(mp, ap, .085)"
   ]
  },
  {
   "attachments": {},
   "cell_type": "markdown",
   "metadata": {},
   "source": [
    "#### Synthesize Epsilon"
   ]
  },
  {
   "cell_type": "code",
   "execution_count": null,
   "metadata": {},
   "outputs": [],
   "source": [
    "def synthesize_eps(mp, ap, upper_bound, depth = 10):\n",
    "    l = 0.\n",
    "    u = upper_bound\n",
    "    \n",
    "    eps_min = None\n",
    "\n",
    "    for _ in range(depth):\n",
    "        m = (l + u) / 2.\n",
    "        eps = verify_eps(mp, ap, m)\n",
    "        print(\"M:\",m)\n",
    "        if (l == u):\n",
    "            break\n",
    "\n",
    "        if eps != None:\n",
    "            eps_min = eps\n",
    "            u = m\n",
    "        else:\n",
    "            l = m\n",
    "    return eps_min"
   ]
  },
  {
   "cell_type": "code",
   "execution_count": null,
   "metadata": {},
   "outputs": [],
   "source": [
    "ver_eps = [0.01 + i * 0.005 for i in range(len(robustness_vector))]"
   ]
  },
  {
   "attachments": {},
   "cell_type": "markdown",
   "metadata": {},
   "source": [
    "### Quotient Extraction"
   ]
  },
  {
   "cell_type": "code",
   "execution_count": null,
   "metadata": {},
   "outputs": [],
   "source": [
    "nx.draw_networkx(extract_quotient(ap))"
   ]
  },
  {
   "attachments": {},
   "cell_type": "markdown",
   "metadata": {},
   "source": [
    "## Partition Visualization"
   ]
  },
  {
   "cell_type": "code",
   "execution_count": null,
   "metadata": {},
   "outputs": [],
   "source": [
    "def predictor(a, robust = False):\n",
    "    result = []\n",
    "    _, tree = build_b7(mp, [x,y], (ver_eps if ver_eps != None else robustness_vector))\n",
    "    a = a.tolist()\n",
    "    counter = 0\n",
    "    for i in a:\n",
    "        res = tree.pred([i[0],i[1]], robust)\n",
    "        result.append(res)\n",
    "        counter += 1\n",
    "    return np.array(result)"
   ]
  },
  {
   "cell_type": "code",
   "execution_count": null,
   "metadata": {},
   "outputs": [],
   "source": [
    "def transform_ctx(ctxs, s):\n",
    "    res = []\n",
    "    for ctx in ctxs:\n",
    "        new = []\n",
    "        for comp in ctx:\n",
    "            dec = simplify(comp).as_decimal(10)\n",
    "            if dec[-1] == \"?\":\n",
    "                new.append(float(dec[:-1]))\n",
    "            else:\n",
    "                new.append(float(dec))\n",
    "        res.append(np.array(new))\n",
    "    return np.array(res)"
   ]
  },
  {
   "attachments": {},
   "cell_type": "markdown",
   "metadata": {},
   "source": [
    "### Visualize"
   ]
  },
  {
   "cell_type": "code",
   "execution_count": null,
   "metadata": {},
   "outputs": [],
   "source": [
    "def visualize(acc = 0.01, robust = False):\n",
    "    x_min, x_max = -1, 3\n",
    "    y_min, y_max = -1, 3\n",
    "    xx, yy = np.meshgrid(np.arange(x_min, x_max, acc), np.arange(y_min, y_max, acc))\n",
    "\n",
    "    print(len(np.around(np.c_[xx.ravel(), yy.ravel()], decimals = 3)))\n",
    "    Z = predictor(np.around(np.c_[xx.ravel(), yy.ravel()], decimals = 3), robust=robust)\n",
    "    Z = Z.reshape(xx.shape)\n",
    "\n",
    "    # Create a colormap for the decision regions\n",
    "    if robust :\n",
    "        cmap = ListedColormap(['#A4AFBF', '#AAFFFF','#FFAAAA','#BBAAFF','#AAAAFF','#DDBBFF','#AADDFF','#CCDDFF','#CCCCFF','#FFCCFF'])\n",
    "    else:\n",
    "        cmap = ListedColormap(['#FFAAAA', '#AAFFFF', '#AAAAFF','#BBAAFF','#AADDFF','#DDBBFF','#CCDDFF','#CCCCFF','#FFCCFF','#FBBCFF','#FBBCCC','#CCBCCC','#FBBAAA','#AAACCC','#DDBDDC','#DDBFFF','#FFFDDC','#DFFFFC'])\n",
    "\n",
    "    # Plot the decision regions\n",
    "    plt.figure()\n",
    "    plt.pcolormesh(xx,yy,Z, cmap=cmap)\n",
    "\n",
    "    # Plot the training data points\n",
    "    examples = transform_ctx(ctxs, s)\n",
    "    plt.scatter(examples[:,0],examples[:,1])\n",
    "    plt.xlabel('x_0') \n",
    "    plt.ylabel('x_1')\n",
    "    plt.axis('square')\n",
    "    plt.title('Decision Regions of Decision Tree Classifier')\n",
    "    annotaed = []\n",
    "\n",
    "    example_classes = predictor(examples)\n",
    "    for i in range(len(examples)):\n",
    "        ex = examples[i]\n",
    "        c = example_classes[i]\n",
    "        if c not in annotaed:\n",
    "            plt.annotate(c, ex)\n",
    "            annotaed.append(c)\n",
    "\n",
    "    plt.savefig('./figures/vis_{}.png'.format(time.time()), dpi = 800, bbox_inches='tight')\n",
    "    # plt.show()"
   ]
  },
  {
   "cell_type": "code",
   "execution_count": null,
   "metadata": {},
   "outputs": [],
   "source": [
    "visualize(acc = 0.04)"
   ]
  },
  {
   "cell_type": "code",
   "execution_count": null,
   "metadata": {},
   "outputs": [],
   "source": [
    "visualize(robust = True, acc = 0.04)"
   ]
  },
  {
   "attachments": {},
   "cell_type": "markdown",
   "metadata": {},
   "source": [
    "## Weak Bisimulation\n"
   ]
  },
  {
   "attachments": {},
   "cell_type": "markdown",
   "metadata": {},
   "source": [
    "#### Stutter Steps"
   ]
  },
  {
   "cell_type": "code",
   "execution_count": null,
   "metadata": {},
   "outputs": [],
   "source": [
    "def successor(x):\n",
    "    y = [i for i in x]\n",
    "    y[0] = If(x[0] - x[1] <= 0, x[0], x[0] + 0.15)\n",
    "    y[1] = If(x[0] - x[1] <= 0.2, If(x[0] - x[1] <= 0, x[1], x[1] + 0.2), x[1] + 0.3)\n",
    "    return y"
   ]
  },
  {
   "cell_type": "code",
   "execution_count": null,
   "metadata": {},
   "outputs": [],
   "source": [
    "def exists_stutt(k, x, p, q, model_params, robustness_vector):\n",
    "    if k == 1:\n",
    "        return classify(model_params,successor(x), robustness_vector) == q\n",
    "    else:\n",
    "        return Or(classify(model_params,successor(x), robustness_vector) == q, \n",
    "                  And(classify(model_params,successor(x), robustness_vector) == p, exists_stutt(k-1,successor(x),p,q, model_params, robustness_vector)))"
   ]
  },
  {
   "attachments": {},
   "cell_type": "markdown",
   "metadata": {},
   "source": [
    "#### Stuttering Bisimulation Condition for Learner"
   ]
  },
  {
   "cell_type": "code",
   "execution_count": null,
   "metadata": {},
   "outputs": [],
   "source": [
    "def cond_2_ctxs_stutt(solver, model_params, adj_params, eps, ctxs):\n",
    "    for [x,y] in ctxs:\n",
    "        solver.add(\n",
    "            ForAll([p,q], Implies(And(adjacency(adj_params, p ,q) == 1, Not(p == q)), \n",
    "                            Implies(And(classify(model_params,[x,y], eps) == p, domain([x,y])), \n",
    "                                    exists_stutt(2, [x,y], p, q, model_params, eps))))\n",
    "        )"
   ]
  },
  {
   "cell_type": "code",
   "execution_count": null,
   "metadata": {},
   "outputs": [],
   "source": [
    "def learn_ctxs_stutt(s, ctxs, new_ctxs):\n",
    "    if new_ctxs == None: return ctxs\n",
    "    ctxs = np.concatenate((ctxs, new_ctxs), axis = 0)\n",
    "    cond_1_ctxs(s, model_params, adjacency_params,robustness_vector, new_ctxs)\n",
    "    cond_2_ctxs_stutt(s, model_params, adjacency_params,robustness_vector, new_ctxs)\n",
    "    return ctxs"
   ]
  },
  {
   "attachments": {},
   "cell_type": "markdown",
   "metadata": {},
   "source": [
    "#### Stuttering Bisimulation Verification"
   ]
  },
  {
   "cell_type": "code",
   "execution_count": null,
   "metadata": {},
   "outputs": [],
   "source": [
    "def ver_cond_2_stutt(model_params, adjacency_params, eps):\n",
    "    s = Solver()\n",
    "    s.add(Exists([p,q],(And(adjacency(adjacency_params, p ,q) == 1, \n",
    "                        classify(model_params,[x,y], eps) == p, \n",
    "                        Not(exists_stutt(2, [x,y], p, q, model_params, eps)),\n",
    "                        domain([x,y])))))\n",
    "    if s.check() == sat:\n",
    "        m = s.model()\n",
    "        ctx = [[eval(m,x), eval(m,y)]]\n",
    "        return ctx\n",
    "    else:\n",
    "        return None"
   ]
  },
  {
   "cell_type": "code",
   "execution_count": null,
   "metadata": {},
   "outputs": [],
   "source": [
    "s = Solver()\n",
    "ctxs = generate_samples(10)\n",
    "\n",
    "cond_1_ctxs(s, model_params, adjacency_params,robustness_vector ,ctxs)\n",
    "cond_2_ctxs_stutt(s, model_params, adjacency_params,robustness_vector ,ctxs)\n",
    "    \n",
    "mp, ap, eps = extract_learner(s)"
   ]
  },
  {
   "attachments": {},
   "cell_type": "markdown",
   "metadata": {},
   "source": [
    "## CEGIS for Stuttering"
   ]
  },
  {
   "cell_type": "code",
   "execution_count": null,
   "metadata": {},
   "outputs": [],
   "source": [
    "mps = []\n",
    "aps = []\n",
    "ctxs_log = []\n",
    "def cegis_stutter(s : Solver, num_it, ctxs):\n",
    "    mp, ap, eps = extract_learner(s)\n",
    "    verified = True\n",
    "    for _ in range(num_it):\n",
    "        s.push()\n",
    "        ctxs_cond_1 = augment_ctxs(ver_cond_1(mp, ap, eps))\n",
    "\n",
    "        if ctxs_cond_1 != None: \n",
    "            ctxs = learn_ctxs_stutt(s, ctxs, ctxs_cond_1)\n",
    "            verified = False\n",
    "\n",
    "        ctxs_cond_2 = augment_ctxs(ver_cond_2_stutt(mp, ap, eps))\n",
    "\n",
    "        if ctxs_cond_2 != None: \n",
    "            ctxs = learn_ctxs_stutt(s, ctxs, ctxs_cond_2)\n",
    "            verified = False\n",
    "\n",
    "        if verified: break\n",
    "        verified = True\n",
    "        print(\"Extracting Learner Parameters\")\n",
    "        mp, ap, eps = extract_learner(s)\n",
    "        \n",
    "    mps.append(mp)\n",
    "    aps.append(aps)\n",
    "    ctxs_log.append(ctxs)\n",
    "    return mp, ap, eps, ctxs"
   ]
  },
  {
   "attachments": {},
   "cell_type": "markdown",
   "metadata": {},
   "source": [
    "## Approximation Quantification for Stuttering"
   ]
  },
  {
   "cell_type": "code",
   "execution_count": null,
   "metadata": {},
   "outputs": [],
   "source": [
    "def exists_stutt_robust(k, x, p, q, model_params, robustness_vector):\n",
    "    if k == 1:\n",
    "        return classify_robust(model_params,successor(x), robustness_vector) == q\n",
    "    else:\n",
    "        return Or(classify_robust(model_params,successor(x), robustness_vector) == q, \n",
    "                  And(classify_robust(model_params,successor(x), robustness_vector) == p, exists_stutt_robust(k-1,successor(x),p,q, model_params, robustness_vector)))"
   ]
  },
  {
   "cell_type": "code",
   "execution_count": null,
   "metadata": {},
   "outputs": [],
   "source": [
    "# Condition 2 - Abstract transitions imply concrete transitions\n",
    "def eps_cond_2_stutt(solver, model_params, adj_params, eps):\n",
    "    solver.add(\n",
    "        ForAll([p,q], Implies(And(adjacency(adj_params, p ,q) == 1, Not(p == q)), \n",
    "                ForAll([x,y], Or(Implies(classify_robust(model_params,[x,y], eps) == p, exists_stutt_robust(2, [x,y], p,q, model_params, eps)), \n",
    "                                 x < -1 + eps[-1], x > 4 - eps[-2], y < 4 + eps[-3], y > -1 - eps[-4])))\n",
    "        )\n",
    "    )"
   ]
  },
  {
   "cell_type": "code",
   "execution_count": null,
   "metadata": {},
   "outputs": [],
   "source": [
    "def verify_eps_stutt(mp, ap, upper_bound):\n",
    "    e = Solver()\n",
    "    eps_cond_1(e, mp, ap, ver_eps)\n",
    "    eps_cond_2_stutt(e, mp, ap, ver_eps)\n",
    "\n",
    "    for eps in robustness_vector:\n",
    "        e.add(eps >= 0.0)\n",
    "        e.add(eps <= upper_bound)\n",
    "    _, _, eps = extract_learner(e)\n",
    "\n",
    "    return eps"
   ]
  },
  {
   "cell_type": "code",
   "execution_count": null,
   "metadata": {},
   "outputs": [],
   "source": [
    "ver_eps = verify_eps_stutt(mp, ap, .3)"
   ]
  },
  {
   "attachments": {},
   "cell_type": "markdown",
   "metadata": {},
   "source": [
    "### Visualization"
   ]
  },
  {
   "cell_type": "code",
   "execution_count": null,
   "metadata": {},
   "outputs": [],
   "source": [
    "visualize(robust = True)"
   ]
  },
  {
   "cell_type": "code",
   "execution_count": null,
   "metadata": {},
   "outputs": [],
   "source": [
    "visualize()"
   ]
  },
  {
   "cell_type": "code",
   "execution_count": null,
   "metadata": {},
   "outputs": [],
   "source": [
    "nx.draw_networkx(extract_quotient(ap))"
   ]
  }
 ],
 "metadata": {
  "kernelspec": {
   "display_name": "base",
   "language": "python",
   "name": "python3"
  },
  "language_info": {
   "codemirror_mode": {
    "name": "ipython",
    "version": 3
   },
   "file_extension": ".py",
   "mimetype": "text/x-python",
   "name": "python",
   "nbconvert_exporter": "python",
   "pygments_lexer": "ipython3",
   "version": "3.10.9"
  },
  "orig_nbformat": 4
 },
 "nbformat": 4,
 "nbformat_minor": 2
}
